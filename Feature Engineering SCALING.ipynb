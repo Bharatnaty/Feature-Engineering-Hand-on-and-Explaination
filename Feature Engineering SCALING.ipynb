{
 "cells": [
  {
   "cell_type": "markdown",
   "metadata": {},
   "source": [
    "# SCALING"
   ]
  },
  {
   "cell_type": "markdown",
   "metadata": {},
   "source": [
    "Why Feature Scaling Matters"
   ]
  },
  {
   "cell_type": "markdown",
   "metadata": {},
   "source": [
    "The scale of the variable directly influences the regression coefficient.<br>\n",
    "Variables with a more significant magnitude dominate over the ones with a smaller magnitude range.<br>\n",
    "Gradient descent converges faster when features are on similar scales.<br>\n",
    "Feature scaling helps decrease the time to find support vectors for SVMs.<br>\n",
    "Euclidean distances are sensitive to feature magnitude<br>"
   ]
  },
  {
   "cell_type": "markdown",
   "metadata": {},
   "source": [
    "<h5>Mean Normalization</h5>"
   ]
  },
  {
   "cell_type": "code",
   "execution_count": 1,
   "metadata": {},
   "outputs": [],
   "source": [
    "import pandas as pd\n",
    "from sklearn.preprocessing import MinMaxScaler\n",
    "data=pd.read_csv(\"train.csv\")\n",
    "MinMaxScaler().fit_transform(data[\"Age\"])"
   ]
  },
  {
   "cell_type": "markdown",
   "metadata": {},
   "source": [
    "CRITERIA:\n",
    "* It centers the mean at 0.\n",
    "* The resulting variance will be different.\n",
    "* It may modify the shape of the original distribution.\n",
    "* It “normalizes” the minimum and maximum values within the range[-1, 1].\n",
    "* It preserves outliers if they exist."
   ]
  },
  {
   "cell_type": "markdown",
   "metadata": {},
   "source": [
    "<h5>Standardization</h5>"
   ]
  },
  {
   "cell_type": "code",
   "execution_count": null,
   "metadata": {},
   "outputs": [],
   "source": [
    "from sklearn.preprocessing import StandardScaler\n",
    "StandardScaler().fit_transform(data[\"Age\"])"
   ]
  },
  {
   "cell_type": "markdown",
   "metadata": {},
   "source": [
    "CRITERIA:\n",
    "* It scales the variance at 1.\n",
    "* It centers the mean at 0.\n",
    "* It preserves the shape of the original distribution.\n",
    "* It preserves outliers if they exist.\n",
    "* Minimum and maximum values vary."
   ]
  },
  {
   "cell_type": "markdown",
   "metadata": {},
   "source": [
    "<h5>Robust Scaling (scaling to median and IQR)</h5>"
   ]
  },
  {
   "cell_type": "code",
   "execution_count": null,
   "metadata": {},
   "outputs": [],
   "source": [
    "from sklearn.preprocessing import RobustScaler\n",
    "RobustScaler().fit_transform(data[\"Age\"])"
   ]
  },
  {
   "cell_type": "markdown",
   "metadata": {},
   "source": [
    "CRITERIA:\n",
    "* It centers the median at 0 .\n",
    "* The resulted variance varies across variables.\n",
    "* It may not preserve the shape of the original distribution.\n",
    "* The minimum and maximum values vary.\n",
    "* It is robust to outliers."
   ]
  },
  {
   "cell_type": "markdown",
   "metadata": {},
   "source": [
    "<h5>Maximum Absolute Scaling (values lie b/w -1 to 1)</h5>"
   ]
  },
  {
   "cell_type": "code",
   "execution_count": null,
   "metadata": {},
   "outputs": [],
   "source": [
    "from sklearn.preprocessing import MaxAbsScaler\n",
    "MaxAbsScaler().fit_transform(data[\"Age\"])"
   ]
  },
  {
   "cell_type": "markdown",
   "metadata": {},
   "source": [
    "CRITERIA:\n",
    "* The resulting mean is not centered.\n",
    "* It doesn't scale the variance.\n",
    "* It’s sensitive to outliers"
   ]
  },
  {
   "cell_type": "markdown",
   "metadata": {},
   "source": [
    "<h5>Scaling to vector unit norm</h5>"
   ]
  },
  {
   "cell_type": "code",
   "execution_count": null,
   "metadata": {},
   "outputs": [],
   "source": [
    "from sklearn.preprocessing import Normalizer\n",
    "Normalizer().fit_transform(data[\"Age\"])"
   ]
  },
  {
   "cell_type": "markdown",
   "metadata": {},
   "source": [
    "CRITERIA:\n",
    "* The length of the resulting vector is 1.\n",
    "* It normalizes the feature vector and not the observation vector.\n",
    "* It’s sensitive to outliers.\n",
    "* Recommended for text classification and clustering."
   ]
  },
  {
   "cell_type": "code",
   "execution_count": null,
   "metadata": {},
   "outputs": [],
   "source": []
  }
 ],
 "metadata": {
  "kernelspec": {
   "display_name": "Python 3",
   "language": "python",
   "name": "python3"
  },
  "language_info": {
   "codemirror_mode": {
    "name": "ipython",
    "version": 3
   },
   "file_extension": ".py",
   "mimetype": "text/x-python",
   "name": "python",
   "nbconvert_exporter": "python",
   "pygments_lexer": "ipython3",
   "version": "3.8.5"
  }
 },
 "nbformat": 4,
 "nbformat_minor": 4
}
