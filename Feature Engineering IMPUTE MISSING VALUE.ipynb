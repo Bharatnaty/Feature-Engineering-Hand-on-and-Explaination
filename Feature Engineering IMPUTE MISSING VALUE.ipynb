{
 "cells": [
  {
   "cell_type": "markdown",
   "metadata": {},
   "source": [
    "<div style=\"color:white;\n",
    "           display:fill;\n",
    "           border-radius:5px;\n",
    "           background-color:blue;\n",
    "           font-size:110%;\n",
    "           font-family:Verdana;\n",
    "           letter-spacing:0.5px\">\n",
    "<h1 style=\"text-align: center;\n",
    "           padding: 10px;\n",
    "              color:white\">\n",
    "MISSING DATA IMPUTATION TECHNIQUES\n",
    "</h1>\n",
    "</div>\n"
   ]
  },
  {
   "attachments": {
    "1_ews_bJFU2dDOKd2cbbdIpA.jpeg": {
     "image/jpeg": "[encoded data removed]"
    }
   },
   "cell_type": "markdown",
   "metadata": {},
   "source": [
    "![1_ews_bJFU2dDOKd2cbbdIpA.jpeg](attachment:1_ews_bJFU2dDOKd2cbbdIpA.jpeg)"
   ]
  },
  {
   "cell_type": "markdown",
   "metadata": {},
   "source": [
    "<div style=\"color:white;\n",
    "           display:fill;\n",
    "           border-radius:5px;\n",
    "           background-color:blue;\n",
    "           font-size:110%;\n",
    "           font-family:Verdana;\n",
    "           letter-spacing:0.5px\">\n",
    "<h1 style=\"text-align: center;\n",
    "           padding: 10px;\n",
    "              color:white\">\n",
    "FOR NUMERIC VARIABLE</h1>\n",
    "</div>"
   ]
  },
  {
   "cell_type": "markdown",
   "metadata": {},
   "source": [
    "<h5>1.MEAN OR MEDIAN IMPUTATION</h5>"
   ]
  },
  {
   "cell_type": "code",
   "execution_count": null,
   "metadata": {},
   "outputs": [],
   "source": [
    "import pandas as pd\n",
    "from sklearn.impute import SimpleImputer\n",
    "\n",
    "# Titanic dataset\n",
    "train=pd.read_csv(\"train.csv\")\n",
    "test=pd.read_csv(\"test.csv\")\n",
    "imputer = SimpleImputer(missing_values=np.nan, strategy='mean')\n",
    "\n",
    "imputer.fit(train)\n",
    "\n",
    "train = imputer.transform(train)\n",
    "test = imputer.transform(test)"
   ]
  },
  {
   "cell_type": "markdown",
   "metadata": {},
   "source": [
    "<p>CRITERIA:<br>\n",
    "    use when data in normal distribution ,if not data is skewed then median is better<br>\n",
    "    You can use this method when data is missing completely at random, and no more than 5% of the variable contains missing data<br>\n",
    "    The higher the percentage of missing values, the higher the distortions(affect the normal distribution)"
   ]
  },
  {
   "cell_type": "markdown",
   "metadata": {},
   "source": [
    "<h5>2.Arbitrary Value Imputation</h5>"
   ]
  },
  {
   "cell_type": "code",
   "execution_count": null,
   "metadata": {},
   "outputs": [],
   "source": [
    "from sklearn.impute import SimpleImputer\n",
    "\n",
    "imputer = SimpleImputer(missing_values=np.nan, strategy='constant', fill_value=999)\n",
    "\n",
    "imputer.fit(train)\n",
    "\n",
    "train = imputer.transform(train)\n",
    "test = imputer.transform(test)"
   ]
  },
  {
   "cell_type": "markdown",
   "metadata": {},
   "source": [
    "CRITERIA:<br>\n",
    "    Data not missing at random<br>\n",
    "    Distortion of the original variable distribution and variance.<br>\n",
    "Distortion of the covariance with the remaining dataset variables.<br>\n",
    "If the arbitrary value is at the end of the distribution, it may mask or create outliers.<br>\n",
    "We need to be careful not to choose an arbitrary value too similar to the mean or median (or any other typical value of the variable distribution).<br>\n",
    "The higher the percentage of NA, the higher the distortions.<br>"
   ]
  },
  {
   "cell_type": "markdown",
   "metadata": {},
   "source": [
    "<h5>3.End of Tail Imputation</h5>"
   ]
  },
  {
   "cell_type": "code",
   "execution_count": null,
   "metadata": {},
   "outputs": [],
   "source": [
    "from feature_engine.missing_data_imputers import EndTailImputer\n",
    "\n",
    "imputer = EndTailImputer(distribution='gaussian', tail='right')\n",
    "\n",
    "imputer.fit(train)\n",
    "\n",
    "train_t = imputer.transform(train)\n",
    "test_t = imputer.transform(test)"
   ]
  },
  {
   "cell_type": "markdown",
   "metadata": {},
   "source": [
    "CRITERIA:<br>\n",
    "    If the variable follows a normal distribution, we can use the mean plus or minus 3 times the standard deviation.<br>\n",
    "If the variable is skewed, we can use the IQR proximity rule"
   ]
  },
  {
   "cell_type": "markdown",
   "metadata": {},
   "source": [
    "<div style=\"color:white;\n",
    "           display:fill;\n",
    "           border-radius:5px;\n",
    "           background-color:blue;\n",
    "           font-size:110%;\n",
    "           font-family:Verdana;\n",
    "           letter-spacing:0.5px\">\n",
    "<h1 style=\"text-align: center;\n",
    "           padding: 10px;\n",
    "              color:white\">\n",
    "For Category Variable</h1>\n",
    "</div>"
   ]
  },
  {
   "cell_type": "markdown",
   "metadata": {},
   "source": [
    "<h5>1.Frequent Category Imputation</h5>"
   ]
  },
  {
   "cell_type": "code",
   "execution_count": null,
   "metadata": {},
   "outputs": [],
   "source": [
    "from sklearn.impute import SimpleImputer\n",
    "\n",
    "imputer = SimpleImputer(missing_values=np.nan, strategy='most_frequent')\n",
    "\n",
    "imputer.fit(train)\n",
    "\n",
    "train = imputer.transform(train)\n",
    "test = imputer.transform(test)"
   ]
  },
  {
   "cell_type": "markdown",
   "metadata": {},
   "source": [
    "CRITERIA:<br>\n",
    "Data missing at random<br>\n",
    "It distorts the relation of the most frequent label with other variables within the dataset.<br>\n",
    "May lead to an over-representation of the most frequent label if there is are a lot of missing observations.<br>\n",
    "You can use this method when data is missing completely at random, and no more than 5% of the variable contains missing data."
   ]
  },
  {
   "cell_type": "markdown",
   "metadata": {},
   "source": [
    "<h5>2.Missing Category Imputation</h5>"
   ]
  },
  {
   "cell_type": "markdown",
   "metadata": {},
   "source": [
    "create new variable and replace with nan variable"
   ]
  },
  {
   "cell_type": "code",
   "execution_count": null,
   "metadata": {},
   "outputs": [],
   "source": [
    "from sklearn.impute import SimpleImputer\n",
    "\n",
    "imputer = SimpleImputer(missing_values=np.nan, strategy='constant', fill_value=\"Missing\")\n",
    "\n",
    "imputer.fit(train)\n",
    "\n",
    "train = imputer.transform(train)\n",
    "test = imputer.transform(test)"
   ]
  },
  {
   "cell_type": "markdown",
   "metadata": {},
   "source": [
    "CRITERIA:<br>\n",
    "If the number of missing values is small, creating an additional category is just adding another rare label to the variable."
   ]
  },
  {
   "cell_type": "markdown",
   "metadata": {},
   "source": [
    "<div style=\"color:white;\n",
    "           display:fill;\n",
    "           border-radius:5px;\n",
    "           background-color:blue;\n",
    "           font-size:110%;\n",
    "           font-family:Verdana;\n",
    "           letter-spacing:0.5px\">\n",
    "<h1 style=\"text-align: center;\n",
    "           padding: 10px;\n",
    "              color:white\">\n",
    "NUMERIC AND CATEGORICAL VARIABLE</h1>\n",
    "</div>"
   ]
  },
  {
   "cell_type": "markdown",
   "metadata": {},
   "source": [
    "<h5>1.Random Sample Imputation</h5>"
   ]
  },
  {
   "cell_type": "code",
   "execution_count": null,
   "metadata": {},
   "outputs": [],
   "source": [
    "from feature_engine.missing_data_imputers import RandomSampleImputer\n",
    "\n",
    "imputer = RandomSampleImputer(random_state = 29)\n",
    "\n",
    "imputer.fit(train)\n",
    "\n",
    "train_t = imputer.transform(train)\n",
    "test_t = imputer.transform(test)"
   ]
  },
  {
   "cell_type": "markdown",
   "metadata": {},
   "source": [
    "CRITERIA:<br>\n",
    "    The relationship between imputed variables and other variables may be affected if there are a lot of missing values.<br>\n",
    "Memory is massive for deployment, as we need to store the original training set to extract values from, and replace the missing values with the randomly selected values."
   ]
  },
  {
   "cell_type": "markdown",
   "metadata": {},
   "source": [
    "# ADVANCED IMPUTATION"
   ]
  },
  {
   "cell_type": "markdown",
   "metadata": {},
   "source": [
    "<h5>1.Iterative Imputation</h5>"
   ]
  },
  {
   "cell_type": "code",
   "execution_count": null,
   "metadata": {},
   "outputs": [],
   "source": [
    "from sklearn.impute import IterativeImputer\n",
    "\n",
    "imputer = IterativeImputer(random_state=22)\n",
    "\n",
    "imputer.fit(train)\n",
    "\n",
    "train_t = imputer.transform(train)\n",
    "test_t = imputer.transform(test)"
   ]
  },
  {
   "cell_type": "markdown",
   "metadata": {},
   "source": [
    "CRITERIA:<br>\n",
    "    use multivariate variable<br>\n",
    "    use round-robin<br>"
   ]
  },
  {
   "cell_type": "markdown",
   "metadata": {},
   "source": [
    "<h6>Using round-robin at each step:<br></h6>\n",
    "The algorithm chooses a feature as output y and all the other feature columns as inputs X.<br>\n",
    "Train a regressor and fit it on (X, y) for known y.<br>\n",
    "The regressor is used to predict the missing values of y<br>.\n",
    "Repeat until the defined max_iteration is reached.<br>\n"
   ]
  },
  {
   "cell_type": "markdown",
   "metadata": {},
   "source": [
    "<h5>2.KNN Imputing</h5>"
   ]
  },
  {
   "cell_type": "code",
   "execution_count": null,
   "metadata": {},
   "outputs": [],
   "source": [
    "from sklearn.impute import KNNImputer\n",
    "\n",
    "imputer = KNNImputer(n_neighbors=3)\n",
    "\n",
    "imputer.fit(train)\n",
    "\n",
    "train_t = imputer.transform(train)\n",
    "test_t = imputer.transform(test)"
   ]
  },
  {
   "cell_type": "markdown",
   "metadata": {},
   "source": [
    "CRITERIA:<br>\n",
    "    This imputation technique uses the famous KNN algorithm to predict the missing values from the neighbors. The idea is simple—any point value is approximated by the nearest point values of other variables."
   ]
  },
  {
   "cell_type": "code",
   "execution_count": null,
   "metadata": {},
   "outputs": [],
   "source": []
  }
 ],
 "metadata": {
  "kernelspec": {
   "display_name": "Python 3",
   "language": "python",
   "name": "python3"
  },
  "language_info": {
   "codemirror_mode": {
    "name": "ipython",
    "version": 3
   },
   "file_extension": ".py",
   "mimetype": "text/x-python",
   "name": "python",
   "nbconvert_exporter": "python",
   "pygments_lexer": "ipython3",
   "version": "3.8.5"
  }
 },
 "nbformat": 4,
 "nbformat_minor": 4
}
